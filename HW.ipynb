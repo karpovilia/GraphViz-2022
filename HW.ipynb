{
  "cells": [
    {
      "cell_type": "markdown",
      "metadata": {
        "id": "nA6f01RSazJx"
      },
      "source": [
        "# <center>Analysis and Visualization of Networks 2022</center>"
      ]
    },
    {
      "cell_type": "markdown",
      "metadata": {
        "id": "nlvp_ssYazJ1"
      },
      "source": [
        "#### <hr /> General Information"
      ]
    },
    {
      "cell_type": "markdown",
      "metadata": {
        "id": "zpds6V9KazJ1"
      },
      "source": [
        "**Due Date:** 28.03.2022 18:00 <br>\n",
        "\n",
        "Please send your reports to <iakarpov@hse.ru> with message subject of the following structure: <br>\n",
        "**GraphViz 2022 *{LastName}* *{First Name}* HW**\n",
        "\n",
        "Support your computations with figures and **comments**. <br>\n",
        "\n",
        "Pick any network with at least 500 nodes from [network repository](https://networkrepository.com/). Table below shows distribution of network between students. You can change with each other and pick any networks but each student is supposed to work with his own unique network.\n",
        "\n",
        "| Name                                         | Network                                     | Community Detection alg. | Clustering alg. |\n",
        "|----------------------------------------------|---------------------------------------------|--------------------------|-----------------|\n",
        "| Каракотов А. А. (aakarakotov@edu.hse.ru)     | https://networkrepository.com/asn.php       | Louvain                  | Agglomerative   |\n",
        "| Ширнин А. А. (aashirnin@edu.hse.ru)          | https://networkrepository.com/bio.php       | Modularity-based         | K-means         |\n",
        "| Шморгунов А. А. (aashmorgunov@edu.hse.ru)    | https://networkrepository.com/bn.php        | Label propagation        | BIRCH           |\n",
        "| Ситкарев А. А. (aasitkarev@edu.hse.ru)       | https://networkrepository.com/ca.php        | Louvain                  | DBScan          |\n",
        "| Войтецкий А. А. (aavoytetskiy@edu.hse.ru)    | https://networkrepository.com/chem.php      | Modularity-based         | Agglomerative   |\n",
        "| Голубицкая А. О. (aogolubitskaya@edu.hse.ru) | https://networkrepository.com/cit.php       | Label propagation        | K-means         |\n",
        "| Андреева Д. А. (daandreeva_2@edu.hse.ru)     | https://networkrepository.com/eco.php       | Louvain                  | BIRCH           |\n",
        "| Гумеров Д. А. (dagumerov@edu.hse.ru)         | https://networkrepository.com/econ.php      | Modularity-based         | DBScan          |\n",
        "| Косач Д. Г. (damovtyan@edu.hse.ru)           | https://networkrepository.com/email.php     | Label propagation        | Agglomerative   |\n",
        "| Фазлетдинов Э. Ф. (effazletdinov@edu.hse.ru) | https://networkrepository.com/misc.php      | Louvain                  | K-means         |\n",
        "| Лупашин Е. И. (eilupashin@edu.hse.ru)        | https://networkrepository.com/heter.php     | Modularity-based         | BIRCH           |\n",
        "| Серикова Е. В. (evserikova@edu.hse.ru)       | https://networkrepository.com/ia.php        | Label propagation        | DBScan          |\n",
        "| Зисман И. А. (iazisman@edu.hse.ru)           | https://networkrepository.com/inf.php       | Louvain                  | Agglomerative   |\n",
        "| Зюляев И. А. (iazyulyaev@edu.hse.ru)         | https://networkrepository.com/labeled.php   | Modularity-based         | K-means         |\n",
        "| Сахиуллин И. Р. (irsakhiullin@edu.hse.ru)    | https://networkrepository.com/massive.php   | Label propagation        | BIRCH           |\n",
        "| Торчик Л. -. (ltorchik@edu.hse.ru)           | https://networkrepository.com/misc.php      | Louvain                  | DBScan          |\n",
        "| Храменков М. А. (makhramenkov@edu.hse.ru)    | https://networkrepository.com/power.php     | Modularity-based         | Agglomerative   |\n",
        "| Вологодский М. Е. (mevologodskiy@edu.hse.ru) | https://networkrepository.com/proximity.php | Label propagation        | K-means         |\n",
        "| Сидоров М. В. (mvsidorov_1@edu.hse.ru)       | https://networkrepository.com/misc.php      | Louvain                  | BIRCH           |\n",
        "| Ноев Н. А. (nanoev@edu.hse.ru)               | https://networkrepository.com/rec.php       | Modularity-based         | DBScan          |\n",
        "| Кенесбек Н. -. (nkenesbek@edu.hse.ru)        | https://networkrepository.com/road.php      | Label propagation        | Agglomerative   |\n",
        "| Савченко Н. -. (nsavchenko@edu.hse.ru)       | https://networkrepository.com/rt.php        | Louvain                  | K-means         |\n",
        "| Погосян Р. А. (rapogosyan@edu.hse.ru)        | https://networkrepository.com/sc.php        | Modularity-based         | BIRCH           |\n",
        "| Малов Р. О. (romalov@edu.hse.ru)             | https://networkrepository.com/soc.php       | Label propagation        | DBScan          |\n",
        "| Саддатимов Р. Ш. (rshsaddatimov@edu.hse.ru)  | https://networkrepository.com/socfb.php     | Louvain                  | Agglomerative   |\n",
        "| Юхатсков С. А. (sayukhatskov@edu.hse.ru)     | https://networkrepository.com/tech.php      | Modularity-based         | K-means         |\n",
        "| Атнашев Т. А. (taatnashev@edu.hse.ru)        | https://networkrepository.com/web.php       | Label propagation        | BIRCH           |\n",
        "| Сагитов Т. М. (tmsagitov@edu.hse.ru)         | https://networkrepository.com/dynamic.php   | Louvain                  | DBScan          |\n",
        "| Юдин В. А. (vayudin_1@edu.hse.ru)            | https://networkrepository.com/misc.php      | Modularity-based         | Agglomerative   |\n",
        "| Фальчикова В. Е. (vefalchikova@edu.hse.ru)   | https://networkrepository.com/bhoslib.php   | Label propagation        | K-means         |\n"
      ]
    },
    {
      "cell_type": "markdown",
      "metadata": {
        "id": "RQCv1qwOazJ3"
      },
      "source": [
        "1. Given the network, give a short description what is it about."
      ]
    },
    {
      "cell_type": "markdown",
      "source": [
        "Your description here"
      ],
      "metadata": {
        "id": "U7iZj0UwgbJL"
      }
    },
    {
      "cell_type": "markdown",
      "source": [
        "## 2. Explore it's centralities and structure.\n",
        "You can use gephi, networkx, igraph or graphistry for vizualization"
      ],
      "metadata": {
        "id": "LWfEBAoJghHx"
      }
    },
    {
      "cell_type": "markdown",
      "source": [
        "### 2.1. Check that Zipf's Law holds <br>"
      ],
      "metadata": {
        "id": "7RuQ7DSUhKBt"
      }
    },
    {
      "cell_type": "code",
      "source": [
        ""
      ],
      "metadata": {
        "id": "bX76LgM0hKSq"
      },
      "execution_count": null,
      "outputs": []
    },
    {
      "cell_type": "markdown",
      "source": [
        "### 2.2. Assuming that the data is distributed according to the Power Law, find  $\\alpha$ of the distribution"
      ],
      "metadata": {
        "id": "ZeqYHGFlhKab"
      }
    },
    {
      "cell_type": "code",
      "source": [
        ""
      ],
      "metadata": {
        "id": "USMixTB_hKjl"
      },
      "execution_count": null,
      "outputs": []
    },
    {
      "cell_type": "markdown",
      "source": [
        "### 2.3. Print 5 nodes with maximum degree centrality, vizualize your graph with color or size as the function of degree <br>"
      ],
      "metadata": {
        "id": "pm1UHtO0hKrP"
      }
    },
    {
      "cell_type": "code",
      "source": [
        ""
      ],
      "metadata": {
        "id": "hYW-kdJlhKzV"
      },
      "execution_count": null,
      "outputs": []
    },
    {
      "cell_type": "markdown",
      "source": [
        "### 2.4. Print 5 nodes with maximum betweenness centrality, vizualize your graph with color or size as the function of betweenness <br>\n"
      ],
      "metadata": {
        "id": "f5aTheE7hK6n"
      }
    },
    {
      "cell_type": "code",
      "source": [
        ""
      ],
      "metadata": {
        "id": "NGuByNRzhLLR"
      },
      "execution_count": null,
      "outputs": []
    },
    {
      "cell_type": "markdown",
      "source": [
        "### 2.5. Print 5 nodes with maximum eigenvector centrality, vizualize your graph with color or size as the function of eigenvector <br>"
      ],
      "metadata": {
        "id": "PRmD2m6zhLSV"
      }
    },
    {
      "cell_type": "code",
      "source": [
        ""
      ],
      "metadata": {
        "id": "lk4YVZC5hLaf"
      },
      "execution_count": null,
      "outputs": []
    },
    {
      "cell_type": "markdown",
      "source": [
        "### 2.6 Print histogram with centralities distribution of your graph <br>"
      ],
      "metadata": {
        "id": "LNOErO8RhLnD"
      }
    },
    {
      "cell_type": "code",
      "source": [
        ""
      ],
      "metadata": {
        "id": "UC8pf-4tkD70"
      },
      "execution_count": null,
      "outputs": []
    },
    {
      "cell_type": "markdown",
      "source": [
        "### 3.7. Describe cenectralities and give any insights you have found"
      ],
      "metadata": {
        "id": "lAPRi4Epkq9t"
      }
    },
    {
      "cell_type": "markdown",
      "source": [
        ""
      ],
      "metadata": {
        "id": "OVqPHna1k8m6"
      }
    },
    {
      "cell_type": "markdown",
      "source": [
        "## 3. Network community detection"
      ],
      "metadata": {
        "id": "PWwPK48mhXKU"
      }
    },
    {
      "cell_type": "markdown",
      "source": [
        "### 3.1. Using Gephi or [NetworkX](https://networkx.github.io/documentation/stable/reference/algorithms/community.html) implement community detection task, using community detection algorithm from the table <br>"
      ],
      "metadata": {
        "id": "44lHhf5ohXVO"
      }
    },
    {
      "cell_type": "code",
      "source": [
        ""
      ],
      "metadata": {
        "id": "6nw_Out4hLuX"
      },
      "execution_count": null,
      "outputs": []
    },
    {
      "cell_type": "markdown",
      "source": [
        "### 3.2. Vizualize your graph community structure in gephi, networkX or grahistry <br>\n"
      ],
      "metadata": {
        "id": "uu-u1qEnhL4V"
      }
    },
    {
      "cell_type": "code",
      "source": [
        ""
      ],
      "metadata": {
        "id": "--TAeDuThL_H"
      },
      "execution_count": null,
      "outputs": []
    },
    {
      "cell_type": "markdown",
      "source": [
        "### 3.3. Give a short interpretation of community detection and the clustering hyperparameter analysis"
      ],
      "metadata": {
        "id": "kWEKL6YxkHd6"
      }
    },
    {
      "cell_type": "markdown",
      "source": [
        ""
      ],
      "metadata": {
        "id": "MQwlmXVpkYSu"
      }
    },
    {
      "cell_type": "markdown",
      "source": [
        "### 3.4. Train graph embedding using any algorithm (DeepWalk, Node2Vec, GAT, motiffs-based)"
      ],
      "metadata": {
        "id": "QxHcr9DuhMFv"
      }
    },
    {
      "cell_type": "code",
      "source": [
        ""
      ],
      "metadata": {
        "id": "x4WxVdZOhMMm"
      },
      "execution_count": null,
      "outputs": []
    },
    {
      "cell_type": "markdown",
      "source": [
        "### 3.5. Implement community detection using algorithm from the table"
      ],
      "metadata": {
        "id": "oZLe31Wsjgcw"
      }
    },
    {
      "cell_type": "code",
      "source": [
        ""
      ],
      "metadata": {
        "id": "hUi9cF3IgQYB"
      },
      "execution_count": null,
      "outputs": []
    },
    {
      "cell_type": "markdown",
      "source": [
        "### 3.6. Perform dimension reduction and visualize resulting clusters with matplotlib"
      ],
      "metadata": {
        "id": "A9LdE6k7jy85"
      }
    },
    {
      "cell_type": "code",
      "source": [
        ""
      ],
      "metadata": {
        "id": "qkwa7ebKjzYD"
      },
      "execution_count": null,
      "outputs": []
    },
    {
      "cell_type": "markdown",
      "source": [
        "### 3.7. Give a short interpretation of community detection and the clustering hyperparameter analysis. Compare results with network-based community detection from 3.3"
      ],
      "metadata": {
        "id": "tMGITe2jkddX"
      }
    },
    {
      "cell_type": "markdown",
      "source": [
        ""
      ],
      "metadata": {
        "id": "j9r8X8l2klZT"
      }
    }
  ],
  "metadata": {
    "kernelspec": {
      "display_name": "Python 3.7.4 32-bit",
      "metadata": {
        "interpreter": {
          "hash": "d9dc88e4aa9c05378aa5e64bcd0e11e2b1e5984d8afad505fdf0864ca3363bab"
        }
      },
      "name": "python3"
    },
    "language_info": {
      "codemirror_mode": {
        "name": "ipython",
        "version": 3
      },
      "file_extension": ".py",
      "mimetype": "text/x-python",
      "name": "python",
      "nbconvert_exporter": "python",
      "pygments_lexer": "ipython3",
      "version": "3.7.4-final"
    },
    "colab": {
      "name": "HW 2 Exploritary Data Analysis.txt",
      "provenance": [],
      "collapsed_sections": []
    }
  },
  "nbformat": 4,
  "nbformat_minor": 0
}